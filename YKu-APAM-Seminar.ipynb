{
 "cells": [
  {
   "cell_type": "code",
   "execution_count": 9,
   "metadata": {
    "collapsed": false,
    "slideshow": {
     "slide_type": "skip"
    }
   },
   "outputs": [],
   "source": [
    "# imports\n",
    "import pandas as pd\n",
    "import matplotlib.pyplot as plt\n",
    "import numpy \n",
    "\n",
    "# this allows plots to appear directly in the notebook\n",
    "%matplotlib inline"
   ]
  },
  {
   "cell_type": "markdown",
   "metadata": {
    "slideshow": {
     "slide_type": "slide"
    }
   },
   "source": [
    "## First, let's read in the data\n",
    "Read in the data from a csv (comma separated values) file"
   ]
  },
  {
   "cell_type": "markdown",
   "metadata": {
    "slideshow": {
     "slide_type": "subslide"
    }
   },
   "source": [
    "## A little bit of pseudocode: \n",
    "\n",
    "** Reading in the individual rower data: **\n",
    "- For each row in the spreadsheet:\n",
    "    - Store the rower's name and five attributes\n",
    "    - Append to an array that holds the data for all rowers\n",
    "\n",
    "** Reading in the time trial data: **\n",
    "- For each row in the spreadsheet:\n",
    "    - Store the velocity and the names of the 8 rowers\n",
    "    - Append to an array that holds the data for all time trials"
   ]
  },
  {
   "cell_type": "markdown",
   "metadata": {
    "slideshow": {
     "slide_type": "subslide"
    }
   },
   "source": [
    "## The Code:"
   ]
  },
  {
   "cell_type": "code",
   "execution_count": 10,
   "metadata": {
    "collapsed": true,
    "slideshow": {
     "slide_type": "-"
    }
   },
   "outputs": [],
   "source": [
    "# Methods to read in data\n",
    "\n",
    "def readTimeData(data):\n",
    "    timeData = []\n",
    "    \n",
    "    for entry in data:\n",
    "        velocity = float(entry[0])\n",
    "        rowers = []\n",
    "        for i in range(4, 12):\n",
    "            rowers.append(entry[i])\n",
    "        entry = {'Velocity': velocity, 'Rowers': rowers}\n",
    "        timeData.append(entry)\n",
    "        \n",
    "    return timeData\n",
    "\n",
    "def readRowerData(data):\n",
    "    rowerData = []\n",
    "    \n",
    "    for row in data:\n",
    "        name = row[0]\n",
    "        fortymin = int(row[1])\n",
    "        onemin = int(row[2])\n",
    "        repmax = int(row[3])\n",
    "        maxwatt = int(row[4])\n",
    "        weight = int(row[5])\n",
    "        \n",
    "        entry = {'Name': name, 'Forty Minute': fortymin, 'One Minute': onemin, \\\n",
    "                 'Rep Max': repmax, 'Max Watt': maxwatt, 'Weight': weight}\n",
    "        rowerData.append(entry)\n",
    "    \n",
    "    return rowerData"
   ]
  },
  {
   "cell_type": "markdown",
   "metadata": {
    "slideshow": {
     "slide_type": "subslide"
    }
   },
   "source": [
    "## Here's what the individual rower data looks like:"
   ]
  },
  {
   "cell_type": "code",
   "execution_count": 11,
   "metadata": {
    "collapsed": false
   },
   "outputs": [
    {
     "data": {
      "text/html": [
       "<div>\n",
       "<table border=\"1\" class=\"dataframe\">\n",
       "  <thead>\n",
       "    <tr style=\"text-align: right;\">\n",
       "      <th></th>\n",
       "      <th>Name</th>\n",
       "      <th>40 Minute Distance (meters)</th>\n",
       "      <th>1 Minute Distance (meters)</th>\n",
       "      <th>Rep Max (kg)</th>\n",
       "      <th>Max Watt (watts)</th>\n",
       "      <th>Weight (lbs)</th>\n",
       "    </tr>\n",
       "  </thead>\n",
       "  <tbody>\n",
       "    <tr>\n",
       "      <th>1</th>\n",
       "      <td>Monahan</td>\n",
       "      <td>11173</td>\n",
       "      <td>344</td>\n",
       "      <td>259</td>\n",
       "      <td>676</td>\n",
       "      <td>154</td>\n",
       "    </tr>\n",
       "    <tr>\n",
       "      <th>2</th>\n",
       "      <td>Rivkin</td>\n",
       "      <td>10454</td>\n",
       "      <td>335</td>\n",
       "      <td>250</td>\n",
       "      <td>702</td>\n",
       "      <td>145</td>\n",
       "    </tr>\n",
       "    <tr>\n",
       "      <th>3</th>\n",
       "      <td>Ptucha</td>\n",
       "      <td>11106</td>\n",
       "      <td>356</td>\n",
       "      <td>338</td>\n",
       "      <td>812</td>\n",
       "      <td>154</td>\n",
       "    </tr>\n",
       "    <tr>\n",
       "      <th>4</th>\n",
       "      <td>Docter</td>\n",
       "      <td>10779</td>\n",
       "      <td>342</td>\n",
       "      <td>293</td>\n",
       "      <td>787</td>\n",
       "      <td>156</td>\n",
       "    </tr>\n",
       "    <tr>\n",
       "      <th>5</th>\n",
       "      <td>Blair</td>\n",
       "      <td>10708</td>\n",
       "      <td>346</td>\n",
       "      <td>323</td>\n",
       "      <td>796</td>\n",
       "      <td>154</td>\n",
       "    </tr>\n",
       "    <tr>\n",
       "      <th>6</th>\n",
       "      <td>Ross</td>\n",
       "      <td>11096</td>\n",
       "      <td>333</td>\n",
       "      <td>278</td>\n",
       "      <td>731</td>\n",
       "      <td>160</td>\n",
       "    </tr>\n",
       "    <tr>\n",
       "      <th>7</th>\n",
       "      <td>Murphy</td>\n",
       "      <td>10386</td>\n",
       "      <td>335</td>\n",
       "      <td>259</td>\n",
       "      <td>717</td>\n",
       "      <td>155</td>\n",
       "    </tr>\n",
       "    <tr>\n",
       "      <th>8</th>\n",
       "      <td>Hou</td>\n",
       "      <td>10780</td>\n",
       "      <td>350</td>\n",
       "      <td>320</td>\n",
       "      <td>791</td>\n",
       "      <td>154</td>\n",
       "    </tr>\n",
       "    <tr>\n",
       "      <th>9</th>\n",
       "      <td>Puttmann</td>\n",
       "      <td>10998</td>\n",
       "      <td>348</td>\n",
       "      <td>285</td>\n",
       "      <td>800</td>\n",
       "      <td>155</td>\n",
       "    </tr>\n",
       "    <tr>\n",
       "      <th>10</th>\n",
       "      <td>Smith</td>\n",
       "      <td>10591</td>\n",
       "      <td>328</td>\n",
       "      <td>262</td>\n",
       "      <td>615</td>\n",
       "      <td>155</td>\n",
       "    </tr>\n",
       "    <tr>\n",
       "      <th>11</th>\n",
       "      <td>Bae</td>\n",
       "      <td>10088</td>\n",
       "      <td>337</td>\n",
       "      <td>291</td>\n",
       "      <td>727</td>\n",
       "      <td>152</td>\n",
       "    </tr>\n",
       "    <tr>\n",
       "      <th>12</th>\n",
       "      <td>Solberg</td>\n",
       "      <td>11510</td>\n",
       "      <td>348</td>\n",
       "      <td>298</td>\n",
       "      <td>744</td>\n",
       "      <td>155</td>\n",
       "    </tr>\n",
       "    <tr>\n",
       "      <th>13</th>\n",
       "      <td>Simon</td>\n",
       "      <td>10986</td>\n",
       "      <td>353</td>\n",
       "      <td>245</td>\n",
       "      <td>775</td>\n",
       "      <td>160</td>\n",
       "    </tr>\n",
       "    <tr>\n",
       "      <th>14</th>\n",
       "      <td>Grueterich</td>\n",
       "      <td>10715</td>\n",
       "      <td>341</td>\n",
       "      <td>293</td>\n",
       "      <td>784</td>\n",
       "      <td>157</td>\n",
       "    </tr>\n",
       "    <tr>\n",
       "      <th>15</th>\n",
       "      <td>Mcgrattan</td>\n",
       "      <td>10808</td>\n",
       "      <td>353</td>\n",
       "      <td>308</td>\n",
       "      <td>800</td>\n",
       "      <td>152</td>\n",
       "    </tr>\n",
       "    <tr>\n",
       "      <th>16</th>\n",
       "      <td>Bartholomew</td>\n",
       "      <td>10112</td>\n",
       "      <td>349</td>\n",
       "      <td>275</td>\n",
       "      <td>743</td>\n",
       "      <td>157</td>\n",
       "    </tr>\n",
       "    <tr>\n",
       "      <th>17</th>\n",
       "      <td>Madani</td>\n",
       "      <td>10850</td>\n",
       "      <td>338</td>\n",
       "      <td>268</td>\n",
       "      <td>646</td>\n",
       "      <td>153</td>\n",
       "    </tr>\n",
       "  </tbody>\n",
       "</table>\n",
       "</div>"
      ],
      "text/plain": [
       "           Name  40 Minute Distance (meters)  1 Minute Distance (meters)  \\\n",
       "1       Monahan                        11173                         344   \n",
       "2        Rivkin                        10454                         335   \n",
       "3        Ptucha                        11106                         356   \n",
       "4        Docter                        10779                         342   \n",
       "5         Blair                        10708                         346   \n",
       "6          Ross                        11096                         333   \n",
       "7        Murphy                        10386                         335   \n",
       "8           Hou                        10780                         350   \n",
       "9      Puttmann                        10998                         348   \n",
       "10        Smith                        10591                         328   \n",
       "11          Bae                        10088                         337   \n",
       "12      Solberg                        11510                         348   \n",
       "13        Simon                        10986                         353   \n",
       "14   Grueterich                        10715                         341   \n",
       "15    Mcgrattan                        10808                         353   \n",
       "16  Bartholomew                        10112                         349   \n",
       "17       Madani                        10850                         338   \n",
       "\n",
       "    Rep Max (kg)  Max Watt (watts)  Weight (lbs)  \n",
       "1            259               676           154  \n",
       "2            250               702           145  \n",
       "3            338               812           154  \n",
       "4            293               787           156  \n",
       "5            323               796           154  \n",
       "6            278               731           160  \n",
       "7            259               717           155  \n",
       "8            320               791           154  \n",
       "9            285               800           155  \n",
       "10           262               615           155  \n",
       "11           291               727           152  \n",
       "12           298               744           155  \n",
       "13           245               775           160  \n",
       "14           293               784           157  \n",
       "15           308               800           152  \n",
       "16           275               743           157  \n",
       "17           268               646           153  "
      ]
     },
     "execution_count": 11,
     "metadata": {},
     "output_type": "execute_result"
    }
   ],
   "source": [
    "# read rower value data\n",
    "rowerdata = pd.read_csv('RowerInfo.csv', index_col=0)\n",
    "rower_data = readRowerData(rowerdata.values)\n",
    "rowerdata.head(17)"
   ]
  },
  {
   "cell_type": "markdown",
   "metadata": {
    "slideshow": {
     "slide_type": "subslide"
    }
   },
   "source": [
    "## Here's what the time trial data looks like:"
   ]
  },
  {
   "cell_type": "code",
   "execution_count": 12,
   "metadata": {
    "collapsed": false,
    "slideshow": {
     "slide_type": "-"
    }
   },
   "outputs": [
    {
     "data": {
      "text/html": [
       "<div>\n",
       "<table border=\"1\" class=\"dataframe\">\n",
       "  <thead>\n",
       "    <tr style=\"text-align: right;\">\n",
       "      <th></th>\n",
       "      <th>Velocity</th>\n",
       "      <th>Seconds</th>\n",
       "      <th>Time</th>\n",
       "      <th>Distance</th>\n",
       "      <th>Stroke</th>\n",
       "      <th>7</th>\n",
       "      <th>6</th>\n",
       "      <th>5</th>\n",
       "      <th>4</th>\n",
       "      <th>3</th>\n",
       "      <th>2</th>\n",
       "      <th>Bow</th>\n",
       "    </tr>\n",
       "  </thead>\n",
       "  <tbody>\n",
       "    <tr>\n",
       "      <th>1</th>\n",
       "      <td>5.5147</td>\n",
       "      <td>272</td>\n",
       "      <td>04:31.9</td>\n",
       "      <td>1500</td>\n",
       "      <td>Hou</td>\n",
       "      <td>Murphy</td>\n",
       "      <td>Ross</td>\n",
       "      <td>Blair</td>\n",
       "      <td>Docter</td>\n",
       "      <td>Ptucha</td>\n",
       "      <td>Rivkin</td>\n",
       "      <td>Monahan</td>\n",
       "    </tr>\n",
       "    <tr>\n",
       "      <th>2</th>\n",
       "      <td>5.4348</td>\n",
       "      <td>276</td>\n",
       "      <td>04:35.8</td>\n",
       "      <td>1500</td>\n",
       "      <td>Bartholomew</td>\n",
       "      <td>Mcgrattan</td>\n",
       "      <td>Grueterich</td>\n",
       "      <td>Simon</td>\n",
       "      <td>Solberg</td>\n",
       "      <td>Bae</td>\n",
       "      <td>Smith</td>\n",
       "      <td>Puttmann</td>\n",
       "    </tr>\n",
       "    <tr>\n",
       "      <th>3</th>\n",
       "      <td>5.5147</td>\n",
       "      <td>272</td>\n",
       "      <td>04:31.5</td>\n",
       "      <td>1500</td>\n",
       "      <td>Hou</td>\n",
       "      <td>Murphy</td>\n",
       "      <td>Ross</td>\n",
       "      <td>Blair</td>\n",
       "      <td>Docter</td>\n",
       "      <td>Ptucha</td>\n",
       "      <td>Bartholomew</td>\n",
       "      <td>Monahan</td>\n",
       "    </tr>\n",
       "    <tr>\n",
       "      <th>4</th>\n",
       "      <td>5.4152</td>\n",
       "      <td>277</td>\n",
       "      <td>04:37.4</td>\n",
       "      <td>1500</td>\n",
       "      <td>Rivkin</td>\n",
       "      <td>Mcgrattan</td>\n",
       "      <td>Grueterich</td>\n",
       "      <td>Simon</td>\n",
       "      <td>Solberg</td>\n",
       "      <td>Bae</td>\n",
       "      <td>Smith</td>\n",
       "      <td>Puttmann</td>\n",
       "    </tr>\n",
       "    <tr>\n",
       "      <th>5</th>\n",
       "      <td>5.5556</td>\n",
       "      <td>90</td>\n",
       "      <td>01:29.5</td>\n",
       "      <td>500</td>\n",
       "      <td>Hou</td>\n",
       "      <td>Murphy</td>\n",
       "      <td>Ross</td>\n",
       "      <td>Blair</td>\n",
       "      <td>Docter</td>\n",
       "      <td>Ptucha</td>\n",
       "      <td>Bartholomew</td>\n",
       "      <td>Monahan</td>\n",
       "    </tr>\n",
       "  </tbody>\n",
       "</table>\n",
       "</div>"
      ],
      "text/plain": [
       "   Velocity  Seconds     Time  Distance       Stroke          7           6  \\\n",
       "1    5.5147      272  04:31.9      1500          Hou     Murphy        Ross   \n",
       "2    5.4348      276  04:35.8      1500  Bartholomew  Mcgrattan  Grueterich   \n",
       "3    5.5147      272  04:31.5      1500          Hou     Murphy        Ross   \n",
       "4    5.4152      277  04:37.4      1500       Rivkin  Mcgrattan  Grueterich   \n",
       "5    5.5556       90  01:29.5       500          Hou     Murphy        Ross   \n",
       "\n",
       "       5        4       3            2       Bow  \n",
       "1  Blair   Docter  Ptucha       Rivkin   Monahan  \n",
       "2  Simon  Solberg     Bae        Smith  Puttmann  \n",
       "3  Blair   Docter  Ptucha  Bartholomew   Monahan  \n",
       "4  Simon  Solberg     Bae        Smith  Puttmann  \n",
       "5  Blair   Docter  Ptucha  Bartholomew   Monahan  "
      ]
     },
     "execution_count": 12,
     "metadata": {},
     "output_type": "execute_result"
    }
   ],
   "source": [
    "# read time trial data\n",
    "timedata = pd.read_csv('Data.csv', index_col=0)\n",
    "time_data = readTimeData(timedata.values)\n",
    "timedata.head()\n"
   ]
  },
  {
   "cell_type": "markdown",
   "metadata": {
    "slideshow": {
     "slide_type": "slide"
    }
   },
   "source": [
    "## Now we need to find the averages of the 5 attributes for each boat:"
   ]
  },
  {
   "cell_type": "markdown",
   "metadata": {
    "slideshow": {
     "slide_type": "subslide"
    }
   },
   "source": [
    "## A little bit of pseudocode:\n",
    "- Given the individual **rower data** and the **time trial data**:\n",
    "- For each entry in the time trial data:\n",
    "    - **Sums** of 5 attributes are set to 0\n",
    "    - For each of 8 rowers in the lineup:\n",
    "        - Find each of his individual attributes from the rower data and add it to the appropriate sum\n",
    "    - Divide each sum by 8 to get **5 averages** \n",
    "    - Add the **averages** and their **respective velocity** to a new set of data"
   ]
  },
  {
   "cell_type": "markdown",
   "metadata": {
    "slideshow": {
     "slide_type": "subslide"
    }
   },
   "source": [
    "## The Code:"
   ]
  },
  {
   "cell_type": "code",
   "execution_count": 13,
   "metadata": {
    "collapsed": false,
    "slideshow": {
     "slide_type": "-"
    }
   },
   "outputs": [],
   "source": [
    "# Get boat averages for each of the five characteristics \n",
    "\n",
    "# Individual rower data and time trial data given as parameters\n",
    "def getAverages(rowerData, timeData):\n",
    "    \n",
    "    num_rowers = 8.0\n",
    "    averages = []\n",
    "    \n",
    "    for row in timeData:\n",
    "\n",
    "        # Set sums of five attributes to 0\n",
    "        forty_sum = 0\n",
    "        one_sum = 0\n",
    "        repmax_sum = 0\n",
    "        watt_sum = 0\n",
    "        weight_sum = 0\n",
    "        \n",
    "        for rower in row['Rowers']:\n",
    "            for entry in rowerData:\n",
    "                # Find the specific rower from the rower data\n",
    "                if (rower == entry['Name']):\n",
    "                    a = (entry['Forty Minute'])\n",
    "                    b = (entry['One Minute'])\n",
    "                    c = (entry['Rep Max'])\n",
    "                    d = (entry['Max Watt'])\n",
    "                    e = (entry['Weight'])\n",
    "                    # Add their individual attribute values to the sums\n",
    "                    forty_sum += a\n",
    "                    one_sum += b\n",
    "                    repmax_sum += c\n",
    "                    watt_sum += d\n",
    "                    weight_sum += e\n",
    "        \n",
    "        # Divide by 8 to calculate the average\n",
    "        average = {'Velocity': row['Velocity'], \\\n",
    "                  'FortyAverage': forty_sum / num_rowers, \\\n",
    "                  'OneAverage': one_sum / num_rowers, \\\n",
    "                  'RepMaxAverage': repmax_sum / num_rowers, \\\n",
    "                  'WattAverage': watt_sum / num_rowers, \\\n",
    "                  'WeightAverage': weight_sum / num_rowers}\n",
    "        \n",
    "        averages.append(average)\n",
    "        \n",
    "    return averages"
   ]
  },
  {
   "cell_type": "markdown",
   "metadata": {
    "slideshow": {
     "slide_type": "subslide"
    }
   },
   "source": [
    "## Here's what the averages look like:"
   ]
  },
  {
   "cell_type": "code",
   "execution_count": 14,
   "metadata": {
    "collapsed": false,
    "slideshow": {
     "slide_type": "-"
    }
   },
   "outputs": [
    {
     "data": {
      "text/html": [
       "<div>\n",
       "<table border=\"1\" class=\"dataframe\">\n",
       "  <thead>\n",
       "    <tr style=\"text-align: right;\">\n",
       "      <th></th>\n",
       "      <th>FortyAverage</th>\n",
       "      <th>OneAverage</th>\n",
       "      <th>RepMaxAverage</th>\n",
       "      <th>Velocity</th>\n",
       "      <th>WattAverage</th>\n",
       "      <th>WeightAverage</th>\n",
       "    </tr>\n",
       "  </thead>\n",
       "  <tbody>\n",
       "    <tr>\n",
       "      <th>0</th>\n",
       "      <td>10810.25</td>\n",
       "      <td>342.625</td>\n",
       "      <td>290.000</td>\n",
       "      <td>5.5147</td>\n",
       "      <td>751.500</td>\n",
       "      <td>154.000</td>\n",
       "    </tr>\n",
       "    <tr>\n",
       "      <th>1</th>\n",
       "      <td>10726.00</td>\n",
       "      <td>344.625</td>\n",
       "      <td>282.125</td>\n",
       "      <td>5.4348</td>\n",
       "      <td>748.500</td>\n",
       "      <td>155.375</td>\n",
       "    </tr>\n",
       "    <tr>\n",
       "      <th>2</th>\n",
       "      <td>10767.50</td>\n",
       "      <td>344.375</td>\n",
       "      <td>293.125</td>\n",
       "      <td>5.5147</td>\n",
       "      <td>756.625</td>\n",
       "      <td>155.500</td>\n",
       "    </tr>\n",
       "    <tr>\n",
       "      <th>3</th>\n",
       "      <td>10768.75</td>\n",
       "      <td>342.875</td>\n",
       "      <td>279.000</td>\n",
       "      <td>5.4152</td>\n",
       "      <td>743.375</td>\n",
       "      <td>153.875</td>\n",
       "    </tr>\n",
       "    <tr>\n",
       "      <th>4</th>\n",
       "      <td>10767.50</td>\n",
       "      <td>344.375</td>\n",
       "      <td>293.125</td>\n",
       "      <td>5.5556</td>\n",
       "      <td>756.625</td>\n",
       "      <td>155.500</td>\n",
       "    </tr>\n",
       "  </tbody>\n",
       "</table>\n",
       "</div>"
      ],
      "text/plain": [
       "   FortyAverage  OneAverage  RepMaxAverage  Velocity  WattAverage  \\\n",
       "0      10810.25     342.625        290.000    5.5147      751.500   \n",
       "1      10726.00     344.625        282.125    5.4348      748.500   \n",
       "2      10767.50     344.375        293.125    5.5147      756.625   \n",
       "3      10768.75     342.875        279.000    5.4152      743.375   \n",
       "4      10767.50     344.375        293.125    5.5556      756.625   \n",
       "\n",
       "   WeightAverage  \n",
       "0        154.000  \n",
       "1        155.375  \n",
       "2        155.500  \n",
       "3        153.875  \n",
       "4        155.500  "
      ]
     },
     "execution_count": 14,
     "metadata": {},
     "output_type": "execute_result"
    }
   ],
   "source": [
    "averages = getAverages(rower_data, time_data)\n",
    "avg_data = pd.DataFrame(averages)\n",
    "avg_data.head()"
   ]
  },
  {
   "cell_type": "markdown",
   "metadata": {
    "slideshow": {
     "slide_type": "slide"
    }
   },
   "source": [
    "## Normalize the Mean and Variance\n",
    "\n",
    "Transform each column so that the mean is 0 and the variance is 1. We make this transformation to the data so that the attribute coefficients are weighted equally in the regression model.\n",
    "\n",
    "$$ X = \\frac{X - \\mu}{\\sigma} $$\n",
    "$$ \\mu = mean $$\n",
    "$$ \\sigma = variance $$"
   ]
  },
  {
   "cell_type": "code",
   "execution_count": 15,
   "metadata": {
    "collapsed": false,
    "slideshow": {
     "slide_type": "-"
    }
   },
   "outputs": [],
   "source": [
    "import numpy\n",
    "\n",
    "def normalize(data):\n",
    "    \n",
    "    data_norm = (data - data.mean()) / (data.max() - data.min())\n",
    "    \n",
    "    return data_norm"
   ]
  },
  {
   "cell_type": "markdown",
   "metadata": {
    "slideshow": {
     "slide_type": "subslide"
    }
   },
   "source": [
    "## Here's what the data looks like now:"
   ]
  },
  {
   "cell_type": "code",
   "execution_count": 16,
   "metadata": {
    "collapsed": false
   },
   "outputs": [
    {
     "data": {
      "text/html": [
       "<div>\n",
       "<table border=\"1\" class=\"dataframe\">\n",
       "  <thead>\n",
       "    <tr style=\"text-align: right;\">\n",
       "      <th></th>\n",
       "      <th>FortyAverage</th>\n",
       "      <th>OneAverage</th>\n",
       "      <th>RepMaxAverage</th>\n",
       "      <th>Velocity</th>\n",
       "      <th>WattAverage</th>\n",
       "      <th>WeightAverage</th>\n",
       "    </tr>\n",
       "  </thead>\n",
       "  <tbody>\n",
       "    <tr>\n",
       "      <th>0</th>\n",
       "      <td>0.323815</td>\n",
       "      <td>-0.166667</td>\n",
       "      <td>0.243017</td>\n",
       "      <td>0.381033</td>\n",
       "      <td>0.179021</td>\n",
       "      <td>-0.276471</td>\n",
       "    </tr>\n",
       "    <tr>\n",
       "      <th>1</th>\n",
       "      <td>-0.039332</td>\n",
       "      <td>0.500000</td>\n",
       "      <td>-0.108939</td>\n",
       "      <td>0.222847</td>\n",
       "      <td>0.095105</td>\n",
       "      <td>0.370588</td>\n",
       "    </tr>\n",
       "    <tr>\n",
       "      <th>2</th>\n",
       "      <td>0.139547</td>\n",
       "      <td>0.416667</td>\n",
       "      <td>0.382682</td>\n",
       "      <td>0.381033</td>\n",
       "      <td>0.322378</td>\n",
       "      <td>0.429412</td>\n",
       "    </tr>\n",
       "    <tr>\n",
       "      <th>3</th>\n",
       "      <td>0.144935</td>\n",
       "      <td>-0.083333</td>\n",
       "      <td>-0.248603</td>\n",
       "      <td>0.184043</td>\n",
       "      <td>-0.048252</td>\n",
       "      <td>-0.335294</td>\n",
       "    </tr>\n",
       "    <tr>\n",
       "      <th>4</th>\n",
       "      <td>0.139547</td>\n",
       "      <td>0.416667</td>\n",
       "      <td>0.382682</td>\n",
       "      <td>0.462008</td>\n",
       "      <td>0.322378</td>\n",
       "      <td>0.429412</td>\n",
       "    </tr>\n",
       "  </tbody>\n",
       "</table>\n",
       "</div>"
      ],
      "text/plain": [
       "   FortyAverage  OneAverage  RepMaxAverage  Velocity  WattAverage  \\\n",
       "0      0.323815   -0.166667       0.243017  0.381033     0.179021   \n",
       "1     -0.039332    0.500000      -0.108939  0.222847     0.095105   \n",
       "2      0.139547    0.416667       0.382682  0.381033     0.322378   \n",
       "3      0.144935   -0.083333      -0.248603  0.184043    -0.048252   \n",
       "4      0.139547    0.416667       0.382682  0.462008     0.322378   \n",
       "\n",
       "   WeightAverage  \n",
       "0      -0.276471  \n",
       "1       0.370588  \n",
       "2       0.429412  \n",
       "3      -0.335294  \n",
       "4       0.429412  "
      ]
     },
     "execution_count": 16,
     "metadata": {},
     "output_type": "execute_result"
    }
   ],
   "source": [
    "normal_data = normalize(avg_data)\n",
    "normal_data.head() "
   ]
  },
  {
   "cell_type": "markdown",
   "metadata": {
    "slideshow": {
     "slide_type": "slide"
    }
   },
   "source": [
    "## Now we can do the regression!"
   ]
  },
  {
   "cell_type": "markdown",
   "metadata": {},
   "source": [
    "## Let's do it first with just one attribute:\n",
    "\n",
    "The model would be given as follows using the least squares approach:\n",
    "\n",
    "**Regression Equation:**\n",
    "\n",
    "$$ y = a + bx $$\n",
    "\n",
    "In our case, y is the predicted velocity, a is the intercept, b is the slope of the regression line, and x is the average of the selected attribute for the boat. \n",
    "\n",
    "The slope and intercept are calculated as follows:\n",
    "\n",
    "$$ b = \\frac{n * \\sum{xy} - (\\sum{x})(\\sum{y})}{n * \\sum{x^2} - (\\sum{x})^2} $$\n",
    "\n",
    "$$ a = \\frac{\\sum{y} - b * \\sum{x}}{n} $$ \n",
    "\n",
    "where y is the velocity, x is the average of the attribute for the boat, and n is the number of entries. "
   ]
  },
  {
   "cell_type": "markdown",
   "metadata": {
    "slideshow": {
     "slide_type": "subslide"
    }
   },
   "source": [
    "## Luckily, we have Python modules to calculate these values for us!\n",
    "\n",
    "The one we are using for the regression is called **StatsModels**.\n"
   ]
  },
  {
   "cell_type": "markdown",
   "metadata": {},
   "source": [
    "In the code below, we import the Python module and use the **Ordinary Least Squares (ols)** method built in the module.\n",
    "\n",
    "The syntax of the method asks for the data in the format of **\"dependent variable ~ independent variable(s)\"**.\n",
    "\n",
    "We fit the data using **fit()** and return the **parameters a and b**. "
   ]
  },
  {
   "cell_type": "code",
   "execution_count": 23,
   "metadata": {
    "collapsed": false,
    "slideshow": {
     "slide_type": "-"
    }
   },
   "outputs": [
    {
     "data": {
      "text/plain": [
       "Intercept      -1.068590e-15\n",
       "FortyAverage    3.902848e-01\n",
       "dtype: float64"
      ]
     },
     "execution_count": 23,
     "metadata": {},
     "output_type": "execute_result"
    }
   ],
   "source": [
    "import statsmodels.formula.api as smf\n",
    "\n",
    "lm = smf.ols(formula='Velocity ~ FortyAverage', data=normal_data).fit()\n",
    "lm.params"
   ]
  },
  {
   "cell_type": "markdown",
   "metadata": {
    "slideshow": {
     "slide_type": "subslide"
    }
   },
   "source": [
    "## Interpreting Model Coefficients\n",
    "\n",
    "How do we interpret the FortyAverage coefficient ($b$)?\n",
    "- A \"unit\" increase in the Forty Minute Average is **associated with** a 0.39 \"unit\" increase in Velocity.\n",
    "\n",
    "How do we interpret the intercept ($a$)?\n",
    "- This number is **extremely close to 0**, which makes sense, because the velocity should be 0 if the forty minute average for a boat is 0. "
   ]
  },
  {
   "cell_type": "markdown",
   "metadata": {
    "slideshow": {
     "slide_type": "slide"
    }
   },
   "source": [
    "## Multiple Linear Regression\n",
    "Now that we understand how to perform a regression analysis using one attribute to predict the velocity, we can do it for all five. \n",
    "\n",
    "The regression equation now looks like this:\n",
    "\n",
    "$$ y = \\alpha + \\beta_{1}x_1 + \\beta_{2}x_2 + \\beta_{3}x_3 + \\beta_{4}x_4 + \\beta_{5}x_5 $$ \n",
    "\n",
    "where **$y$** is the velocity, **$\\alpha$** is the intercept, **$\\beta_{1}, \\beta_{2}, \\beta_{3}, \\beta_{4}, \\beta_{5}$** are the five model coefficients, and **$x_1, x_2, x_3, x_4, x_5$** are the five average attribute values. "
   ]
  },
  {
   "cell_type": "markdown",
   "metadata": {
    "slideshow": {
     "slide_type": "subslide"
    }
   },
   "source": [
    "The code here is the same as for the regression with one attribute, except now we include the data of all five attributes in the method arguments. \n",
    "\n",
    "We now have six return values: the intercept value and the coefficients for the five attributes. "
   ]
  },
  {
   "cell_type": "code",
   "execution_count": 24,
   "metadata": {
    "collapsed": false,
    "slideshow": {
     "slide_type": "-"
    }
   },
   "outputs": [
    {
     "data": {
      "text/plain": [
       "Intercept       -1.054712e-15\n",
       "FortyAverage     1.415966e+00\n",
       "OneAverage       9.149223e-01\n",
       "RepMaxAverage    1.475126e-01\n",
       "WattAverage     -1.470919e+00\n",
       "WeightAverage   -6.232467e-02\n",
       "dtype: float64"
      ]
     },
     "execution_count": 24,
     "metadata": {},
     "output_type": "execute_result"
    }
   ],
   "source": [
    "lm = smf.ols(formula='Velocity ~ FortyAverage + OneAverage + \\\n",
    "                    RepMaxAverage + WattAverage + WeightAverage', \\\n",
    "                     data=normal_data).fit()\n",
    "lm.params\n"
   ]
  },
  {
   "cell_type": "markdown",
   "metadata": {
    "slideshow": {
     "slide_type": "slide"
    }
   },
   "source": [
    "## How can we tell if our model is any good?\n",
    "We can observe the **R Squared Value**. The R squared value is a statistical measure of how close the data are to the fitted regression line. \n",
    "\n",
    "However, R-squared cannot determine whether the coefficient estimates and predictions are biased, which is why you must assess the residual plots. R-squared does not indicate whether a regression model is adequate. You can have a low R-squared value for a good model, or a high R-squared value for a model that does not fit the data!\n",
    "\n",
    "Let's take a look at the summary of our model provided by the **StatsModel** package:"
   ]
  },
  {
   "cell_type": "code",
   "execution_count": 19,
   "metadata": {
    "collapsed": false,
    "scrolled": true
   },
   "outputs": [
    {
     "data": {
      "text/html": [
       "<table class=\"simpletable\">\n",
       "<caption>OLS Regression Results</caption>\n",
       "<tr>\n",
       "  <th>Dep. Variable:</th>        <td>Velocity</td>     <th>  R-squared:         </th> <td>   0.197</td>\n",
       "</tr>\n",
       "<tr>\n",
       "  <th>Model:</th>                   <td>OLS</td>       <th>  Adj. R-squared:    </th> <td>  -0.089</td>\n",
       "</tr>\n",
       "<tr>\n",
       "  <th>Method:</th>             <td>Least Squares</td>  <th>  F-statistic:       </th> <td>  0.6885</td>\n",
       "</tr>\n",
       "<tr>\n",
       "  <th>Date:</th>             <td>Wed, 14 Oct 2015</td> <th>  Prob (F-statistic):</th>  <td> 0.640</td> \n",
       "</tr>\n",
       "<tr>\n",
       "  <th>Time:</th>                 <td>12:09:30</td>     <th>  Log-Likelihood:    </th> <td> -3.4980</td>\n",
       "</tr>\n",
       "<tr>\n",
       "  <th>No. Observations:</th>      <td>    20</td>      <th>  AIC:               </th> <td>   19.00</td>\n",
       "</tr>\n",
       "<tr>\n",
       "  <th>Df Residuals:</th>          <td>    14</td>      <th>  BIC:               </th> <td>   24.97</td>\n",
       "</tr>\n",
       "<tr>\n",
       "  <th>Df Model:</th>              <td>     5</td>      <th>                     </th>     <td> </td>   \n",
       "</tr>\n",
       "<tr>\n",
       "  <th>Covariance Type:</th>      <td>nonrobust</td>    <th>                     </th>     <td> </td>   \n",
       "</tr>\n",
       "</table>\n",
       "<table class=\"simpletable\">\n",
       "<tr>\n",
       "        <td></td>           <th>coef</th>     <th>std err</th>      <th>t</th>      <th>P>|t|</th> <th>[95.0% Conf. Int.]</th> \n",
       "</tr>\n",
       "<tr>\n",
       "  <th>Intercept</th>     <td>-1.055e-15</td> <td>    0.077</td> <td>-1.37e-14</td> <td> 1.000</td> <td>   -0.165     0.165</td>\n",
       "</tr>\n",
       "<tr>\n",
       "  <th>FortyAverage</th>  <td>    1.4160</td> <td>   11.718</td> <td>    0.121</td> <td> 0.906</td> <td>  -23.717    26.549</td>\n",
       "</tr>\n",
       "<tr>\n",
       "  <th>OneAverage</th>    <td>    0.9149</td> <td>    4.498</td> <td>    0.203</td> <td> 0.842</td> <td>   -8.732    10.562</td>\n",
       "</tr>\n",
       "<tr>\n",
       "  <th>RepMaxAverage</th> <td>    0.1475</td> <td>    6.385</td> <td>    0.023</td> <td> 0.982</td> <td>  -13.546    13.841</td>\n",
       "</tr>\n",
       "<tr>\n",
       "  <th>WattAverage</th>   <td>   -1.4709</td> <td>   21.425</td> <td>   -0.069</td> <td> 0.946</td> <td>  -47.423    44.481</td>\n",
       "</tr>\n",
       "<tr>\n",
       "  <th>WeightAverage</th> <td>   -0.0623</td> <td>    2.550</td> <td>   -0.024</td> <td> 0.981</td> <td>   -5.532     5.407</td>\n",
       "</tr>\n",
       "</table>\n",
       "<table class=\"simpletable\">\n",
       "<tr>\n",
       "  <th>Omnibus:</th>       <td> 1.744</td> <th>  Durbin-Watson:     </th> <td>   3.107</td>\n",
       "</tr>\n",
       "<tr>\n",
       "  <th>Prob(Omnibus):</th> <td> 0.418</td> <th>  Jarque-Bera (JB):  </th> <td>   1.216</td>\n",
       "</tr>\n",
       "<tr>\n",
       "  <th>Skew:</th>          <td>-0.356</td> <th>  Prob(JB):          </th> <td>   0.545</td>\n",
       "</tr>\n",
       "<tr>\n",
       "  <th>Kurtosis:</th>      <td> 2.025</td> <th>  Cond. No.          </th> <td>    334.</td>\n",
       "</tr>\n",
       "</table>"
      ],
      "text/plain": [
       "<class 'statsmodels.iolib.summary.Summary'>\n",
       "\"\"\"\n",
       "                            OLS Regression Results                            \n",
       "==============================================================================\n",
       "Dep. Variable:               Velocity   R-squared:                       0.197\n",
       "Model:                            OLS   Adj. R-squared:                 -0.089\n",
       "Method:                 Least Squares   F-statistic:                    0.6885\n",
       "Date:                Wed, 14 Oct 2015   Prob (F-statistic):              0.640\n",
       "Time:                        12:09:30   Log-Likelihood:                -3.4980\n",
       "No. Observations:                  20   AIC:                             19.00\n",
       "Df Residuals:                      14   BIC:                             24.97\n",
       "Df Model:                           5                                         \n",
       "Covariance Type:            nonrobust                                         \n",
       "=================================================================================\n",
       "                    coef    std err          t      P>|t|      [95.0% Conf. Int.]\n",
       "---------------------------------------------------------------------------------\n",
       "Intercept     -1.055e-15      0.077  -1.37e-14      1.000        -0.165     0.165\n",
       "FortyAverage      1.4160     11.718      0.121      0.906       -23.717    26.549\n",
       "OneAverage        0.9149      4.498      0.203      0.842        -8.732    10.562\n",
       "RepMaxAverage     0.1475      6.385      0.023      0.982       -13.546    13.841\n",
       "WattAverage      -1.4709     21.425     -0.069      0.946       -47.423    44.481\n",
       "WeightAverage    -0.0623      2.550     -0.024      0.981        -5.532     5.407\n",
       "==============================================================================\n",
       "Omnibus:                        1.744   Durbin-Watson:                   3.107\n",
       "Prob(Omnibus):                  0.418   Jarque-Bera (JB):                1.216\n",
       "Skew:                          -0.356   Prob(JB):                        0.545\n",
       "Kurtosis:                       2.025   Cond. No.                         334.\n",
       "==============================================================================\n",
       "\n",
       "Warnings:\n",
       "[1] Standard Errors assume that the covariance matrix of the errors is correctly specified.\n",
       "\"\"\""
      ]
     },
     "execution_count": 19,
     "metadata": {},
     "output_type": "execute_result"
    }
   ],
   "source": [
    "lm.rsquared\n",
    "lm.summary()"
   ]
  },
  {
   "cell_type": "markdown",
   "metadata": {
    "slideshow": {
     "slide_type": "slide"
    }
   },
   "source": [
    "## Scatter Plot of Fit vs. Data\n",
    "\n",
    "A visual method of checking the accuracy of our regression model is to make a scatter plot of the **predicted** velocity values of the model vs. the **actual** velocity given the same average values.\n",
    "\n",
    "We can use the Python library **matplotlib** (which is adapted from Matlab) to make the plots.  "
   ]
  },
  {
   "cell_type": "code",
   "execution_count": 20,
   "metadata": {
    "collapsed": false,
    "slideshow": {
     "slide_type": "subslide"
    }
   },
   "outputs": [
    {
     "data": {
      "text/plain": [
       "<matplotlib.text.Text at 0x109356ad0>"
      ]
     },
     "execution_count": 20,
     "metadata": {},
     "output_type": "execute_result"
    },
    {
     "data": {
      "image/png": "[encoded data removed]",
      "text/plain": [
       "<matplotlib.figure.Figure at 0x109335290>"
      ]
     },
     "metadata": {},
     "output_type": "display_data"
    }
   ],
   "source": [
    "# Find the fit values\n",
    "\n",
    "fit_values = []\n",
    "data_values = []\n",
    "\n",
    "for nd in normal_data.values:\n",
    "    \n",
    "    data_values.append(nd[3])\n",
    "    \n",
    "    fit_value = nd[0]*lm.params.FortyAverage + \\\n",
    "                nd[1]*lm.params.OneAverage + \\\n",
    "                nd[2]*lm.params.RepMaxAverage + \\\n",
    "                nd[4]*lm.params.WattAverage + \\\n",
    "                nd[5]*lm.params.WeightAverage + \\\n",
    "                lm.params.Intercept\n",
    "                \n",
    "    fit_values.append(fit_value)\n",
    "\n",
    "figure = plt.figure()\n",
    "axes = figure.add_subplot(1, 1, 1)\n",
    "axes.plot(fit_values, data_values, 'bo')\n",
    "axes.set_title('Actual Values vs. Fit Values')\n",
    "axes.set_xlabel('Fit Values')\n",
    "axes.set_ylabel('Actual Values')"
   ]
  },
  {
   "cell_type": "markdown",
   "metadata": {},
   "source": [
    "This scatterplot doesn't seem to yield the best results. Let's see if we can refine the regression model by looking to see if any of our attributes correlate with one another in order to see if make more precise our regression model. "
   ]
  },
  {
   "cell_type": "markdown",
   "metadata": {
    "slideshow": {
     "slide_type": "slide"
    }
   },
   "source": [
    "## Colinearity: FortyAverage vs. WattAverage\n",
    "\n",
    "We see from the graph below that two of our attributes, FortyAverage and WattAverage, correlate pretty well, meaning that the higher the WattAverage, the higher the FortyAverage. \n",
    "\n",
    "We also note from the results of our regression above, FortyAverage and WattAverage have coefficients that are **equal** and **opposite**. This result indicates that these features are **colinear**. "
   ]
  },
  {
   "cell_type": "code",
   "execution_count": 21,
   "metadata": {
    "collapsed": false
   },
   "outputs": [
    {
     "data": {
      "text/plain": [
       "<matplotlib.text.Text at 0x1093351d0>"
      ]
     },
     "execution_count": 21,
     "metadata": {},
     "output_type": "execute_result"
    },
    {
     "data": {
      "image/png": "[encoded data removed]",
      "text/plain": [
       "<matplotlib.figure.Figure at 0x109431510>"
      ]
     },
     "metadata": {},
     "output_type": "display_data"
    }
   ],
   "source": [
    "figure = plt.figure()\n",
    "axes = figure.add_subplot(1, 1, 1)\n",
    "axes.plot(normal_data['FortyAverage'].values, normal_data['WattAverage'].values, 'ro')\n",
    "axes.set_title(\"Forty Average Values vs. Watt Average Values\")\n",
    "axes.set_xlabel('Watt Average Values')\n",
    "axes.set_ylabel('Forty Average Values')"
   ]
  },
  {
   "cell_type": "markdown",
   "metadata": {},
   "source": [
    "Because these two features are colinear, our previous regression model has a **bias** which could make the model inaccurate. What can we do to remove this bias?"
   ]
  },
  {
   "cell_type": "markdown",
   "metadata": {
    "slideshow": {
     "slide_type": "slide"
    }
   },
   "source": [
    "## Regularized Regression\n",
    "\n",
    "Now that we have found that there are some features that are colinear, we will want to implement a **regularized regression** in order to reduce the number of predictors in our regression model and to reduce the bias.\n",
    "\n",
    "Two techniques that we will use to perform this regression are **lasso** and **elastic net**. \n",
    "\n",
    "## Lasso\n",
    "**Lasso** is a regression technique that allows you to:\n",
    "- reduce the number of predictors\n",
    "- identify important predictors\n",
    "- select among redundant predictors. \n",
    "\n",
    "## Elastic Net\n",
    "We couple the lasso technique with **elastic net**, specifically because we have highly correlated variables. "
   ]
  },
  {
   "cell_type": "code",
   "execution_count": 29,
   "metadata": {
    "collapsed": false,
    "slideshow": {
     "slide_type": "subslide"
    }
   },
   "outputs": [
    {
     "name": "stdout",
     "output_type": "stream",
     "text": [
      "Computing regularization path using the lasso...\n",
      "Computing regularization path using the elastic net...\n"
     ]
    },
    {
     "data": {
      "text/plain": [
       "(1.3106730482316984,\n",
       " 3.7086130569037361,\n",
       " -0.25705459301977707,\n",
       " 0.58276016074938664)"
      ]
     },
     "execution_count": 29,
     "metadata": {},
     "output_type": "execute_result"
    },
    {
     "data": {
      "image/png": "[encoded data removed]",
      "text/plain": [
       "<matplotlib.figure.Figure at 0x10a6f3310>"
      ]
     },
     "metadata": {},
     "output_type": "display_data"
    }
   ],
   "source": [
    "from sklearn.linear_model import lasso_path, enet_path\n",
    "from sklearn import datasets\n",
    "\n",
    "x = [normal_data.FortyAverage.values, normal_data.OneAverage.values, \\\n",
    "     normal_data.RepMaxAverage.values, normal_data.WattAverage.values, \\\n",
    "     normal_data.WeightAverage.values]\n",
    "y = normal_data.Velocity.values\n",
    "\n",
    "X = numpy.asarray(x)\n",
    "X = numpy.transpose(X)\n",
    "\n",
    "Y = numpy.asarray(y)\n",
    "Y = numpy.transpose(Y)\n",
    "\n",
    "eps = 5e-3\n",
    "\n",
    "print(\"Computing regularization path using the lasso...\")\n",
    "alphas_lasso, coefs_lasso, _ = lasso_path(X, Y, eps, fit_intercept=False)\n",
    "\n",
    "print(\"Computing regularization path using the elastic net...\")\n",
    "alphas_enet, coefs_enet, _ = enet_path(\n",
    "    X, y, eps=eps, l1_ratio=0.8, fit_intercept=False)\n",
    "\n",
    "# Display results\n",
    "\n",
    "plt.figure(1)\n",
    "ax = plt.gca()\n",
    "ax.set_color_cycle(2 * ['b', 'r', 'g', 'c', 'k'])\n",
    "l1 = plt.plot(-numpy.log10(alphas_lasso), coefs_lasso.T)\n",
    "l2 = plt.plot(-numpy.log10(alphas_enet), coefs_enet.T, linestyle='--')\n",
    "\n",
    "plt.xlabel('-Log(alpha)')\n",
    "plt.ylabel('coefficients')\n",
    "plt.title('Lasso and Elastic-Net Paths')\n",
    "plt.legend((l1[-1], l2[-1]), ('Lasso', 'Elastic-Net'), loc='lower left')\n",
    "plt.axis('tight')\n"
   ]
  },
  {
   "cell_type": "markdown",
   "metadata": {
    "slideshow": {
     "slide_type": "slide"
    }
   },
   "source": [
    "## Using our new model\n",
    "With the coefficients of our refined regression model, hopefully we'll be able to better predict the velocity of a given boat of rowers. \n",
    "\n",
    "Let's do the same thing as before and make a **new scatter plot** of the actual values vs. the fit values as well as observe the **new R squared value**. "
   ]
  },
  {
   "cell_type": "code",
   "execution_count": 30,
   "metadata": {
    "collapsed": false,
    "slideshow": {
     "slide_type": "subslide"
    }
   },
   "outputs": [
    {
     "name": "stdout",
     "output_type": "stream",
     "text": [
      "FortyAverage coefficient: 0.577502550193\n",
      "OneAverage coefficient: 0.582760160749\n",
      "RepMaxAverage coefficient: -0.25705459302\n",
      "WattAverage coefficient: 0.0\n",
      "Weight Average coefficient: -0.225266670534\n"
     ]
    }
   ],
   "source": [
    "# grab the new coefficients\n",
    "forty_coef = coefs_lasso[0][-1]\n",
    "print \"FortyAverage coefficient:\", forty_coef\n",
    "one_coef = coefs_lasso[1][-1]\n",
    "print \"OneAverage coefficient:\", one_coef\n",
    "repmax_coef = coefs_lasso[2][-1]\n",
    "print \"RepMaxAverage coefficient:\", repmax_coef\n",
    "maxwatt_coef = coefs_lasso[3][-1]\n",
    "print \"WattAverage coefficient:\", maxwatt_coef\n",
    "weight_coef = coefs_lasso[4][-1]\n",
    "print \"Weight Average coefficient:\", weight_coef "
   ]
  },
  {
   "cell_type": "markdown",
   "metadata": {},
   "source": [
    "The fact that the **OneAverage coefficient** is the highest makes sense because that specific measure is the closest to the pieces performed for the time trials."
   ]
  },
  {
   "cell_type": "markdown",
   "metadata": {
    "slideshow": {
     "slide_type": "subslide"
    }
   },
   "source": [
    "## New Scatter Plot"
   ]
  },
  {
   "cell_type": "code",
   "execution_count": 31,
   "metadata": {
    "collapsed": false,
    "slideshow": {
     "slide_type": "-"
    }
   },
   "outputs": [
    {
     "data": {
      "text/plain": [
       "<matplotlib.text.Text at 0x10a4c7810>"
      ]
     },
     "execution_count": 31,
     "metadata": {},
     "output_type": "execute_result"
    },
    {
     "data": {
      "image/png": "[encoded data removed]",
      "text/plain": [
       "<matplotlib.figure.Figure at 0x10a7c1e90>"
      ]
     },
     "metadata": {},
     "output_type": "display_data"
    }
   ],
   "source": [
    "# calculate the predicted values \n",
    "# store the predicted values and actual values in respective arrays, then make plot\n",
    "\n",
    "new_fit_values = []\n",
    "data_values = []\n",
    "\n",
    "for nd in normal_data.values:\n",
    "    \n",
    "    data_values.append(nd[3])\n",
    "    \n",
    "    new_fit_value = nd[0]*forty_coef + \\\n",
    "                nd[1]*one_coef + \\\n",
    "                nd[2]*repmax_coef + \\\n",
    "                nd[4]*maxwatt_coef + \\\n",
    "                nd[5]*weight_coef\n",
    "                \n",
    "    new_fit_values.append(new_fit_value)\n",
    "    \n",
    "figure = plt.figure()\n",
    "axes = figure.add_subplot(1, 1, 1)\n",
    "axes.plot(new_fit_values, data_values, 'bo')\n",
    "axes.set_title('Actual Values vs. Fit Values')\n",
    "axes.set_xlabel('Fit Values')\n",
    "axes.set_ylabel('Actual Values')"
   ]
  },
  {
   "cell_type": "markdown",
   "metadata": {
    "slideshow": {
     "slide_type": "slide"
    }
   },
   "source": [
    "## Did the values change? \n",
    "Let's compare the old fit values vs. the new ones: "
   ]
  },
  {
   "cell_type": "code",
   "execution_count": 32,
   "metadata": {
    "collapsed": false
   },
   "outputs": [
    {
     "name": "stdout",
     "output_type": "stream",
     "text": [
      "0.0957770738468 vs 0.0896881303246\n",
      "0.222710354385 vs 0.213187785897\n",
      "0.13430805781 vs 0.128303508707\n",
      "0.184179370422 vs 0.174572407514\n",
      "0.13430805781 vs 0.128303508707\n",
      "0.13430805781 vs 0.128303508707\n",
      "-0.213929914868 vs -0.204022487763\n",
      "-0.213929914868 vs -0.204022487763\n",
      "0.0615620669174 vs 0.0647179495012\n",
      "0.0615620669174 vs 0.0647179495012\n",
      "-0.141183923975 vs -0.140436928556\n",
      "-0.141183923975 vs -0.140436928556\n",
      "0.0591229459513 vs 0.0708569736819\n",
      "0.0591229459513 vs 0.0708569736819\n",
      "-0.138744803009 vs -0.146575952737\n",
      "-0.138744803009 vs -0.146575952737\n",
      "0.0933379528806 vs 0.0958271545054\n",
      "0.0933379528806 vs 0.0958271545054\n",
      "-0.172959809939 vs -0.171546133561\n",
      "-0.172959809939 vs -0.171546133561\n"
     ]
    }
   ],
   "source": [
    "for n in range(0, len(fit_values)):\n",
    "    print fit_values[n], \"vs\", new_fit_values[n]\n",
    "    "
   ]
  },
  {
   "cell_type": "markdown",
   "metadata": {},
   "source": [
    "There doesn't seem to be any significant change. What about the new R squared value?"
   ]
  },
  {
   "cell_type": "markdown",
   "metadata": {
    "slideshow": {
     "slide_type": "subslide"
    }
   },
   "source": [
    "## New R Squared Value:\n",
    "\n",
    "Use the **scipy** package to find the R value given two sets of values, the first independent, the second dependent. "
   ]
  },
  {
   "cell_type": "code",
   "execution_count": 33,
   "metadata": {
    "collapsed": false
   },
   "outputs": [
    {
     "name": "stdout",
     "output_type": "stream",
     "text": [
      "R squared = 0.197\n"
     ]
    }
   ],
   "source": [
    "from scipy import stats\n",
    "\n",
    "slope, intercept, r_value, p_value, std_err = stats.linregress(data_values, new_fit_values)\n",
    "print \"R squared =\", round(r_value**2, 3)"
   ]
  },
  {
   "cell_type": "markdown",
   "metadata": {},
   "source": [
    "Hmm... looks like the R squared value didn't improve, but we gave it our best shot! What now?"
   ]
  },
  {
   "cell_type": "markdown",
   "metadata": {
    "slideshow": {
     "slide_type": "slide"
    }
   },
   "source": [
    "## Constrained Optimization\n",
    "Let's assume that we trust our model, even though the R squared value might not indicate that it is very accurate. \n",
    "\n",
    "We can still use our regression model to **predict** the fastest lineup by iterating through all combinations of 8 rowers from the 17 candidates. The combination of 8 rowers that produces the **fastest velocity** will be the fastest lineup. "
   ]
  },
  {
   "cell_type": "markdown",
   "metadata": {
    "slideshow": {
     "slide_type": "subslide"
    }
   },
   "source": [
    "## How many iterations will we have to go through?\n",
    "Out of 17 rowers, we will choose all combinations of 8. We can use the choose function because order of selection does not matter:\n",
    "\n",
    "(*The fraction below is actually the choose function- couldn't get it to work in LaTeX*)\n",
    "\n",
    "$$ \\frac{17!}{8!(17-8)!} = \\left(\\frac{17}{8}\\right) = 24310 $$\n",
    "\n",
    "That's a lot of iterations!\n"
   ]
  },
  {
   "cell_type": "markdown",
   "metadata": {
    "slideshow": {
     "slide_type": "subslide"
    }
   },
   "source": [
    "## However, there are a couple of constraints we can consider before we optimize\n",
    "\n",
    "First, it is important to note that most rowers cannot row on both sides (port and starboard). \n",
    "Therefore, we need **4 port rowers** and **4 starboard rowers**.\n",
    "\n",
    "Second, there is a weight restriction in lightweight rowing. No individual rower can **exceed 160 lbs** and the weight average of the boat must be **less than or equal to 155 lbs**."
   ]
  },
  {
   "cell_type": "markdown",
   "metadata": {
    "slideshow": {
     "slide_type": "subslide"
    }
   },
   "source": [
    "In the data set we have been using, there are **9 port side rowers** and **8 starboard side rowers**.\n",
    "Using this constraint, we can reduce the number of iterations to be the sum of 9 choose 4 and 8 choose 4\n",
    "(*Once again, the fraction is actually the choose function*) :\n",
    "\n",
    "$$ \\left(\\frac{9}{4}\\right) + \\left(\\frac{8}{4}\\right) = 196 $$\n",
    "\n",
    "That's a lot less iterations!\n",
    "\n",
    "Furthermore, a lineup is only valid if its average weight is less than or equal to 155 lbs. We can ignore the lineups that exceed 155 lbs, so the total number of valid entries is less than 196. "
   ]
  },
  {
   "cell_type": "markdown",
   "metadata": {
    "slideshow": {
     "slide_type": "subslide"
    }
   },
   "source": [
    "## Pseudocode\n",
    "I didn't have time to implement the actual code, but we can take a look at how it would work in theory:\n",
    "\n",
    "- Array named **ports**: individual information for the **port side rowers** \n",
    "\n",
    "- Array named **starboards**: individual information for the **starboard side rowers**\n",
    "\n",
    "- Set a variable **max_v** to keep track of the **maximum velocity encountered** to 0. \n",
    "\n",
    "- Set a respective array **max_rowers** to keep track of the 8 rowers who produce the maximum velocity.\n",
    "\n",
    "- **Iterate** through the 9 port side rowers choosing 4 each time using a combination of loops:\n",
    "    - **Iterate** through the 8 starboard side rowers choosing 4 each time using a combination of loops:\n",
    "        - From the 8 rowers chosen, calculate the **average values** for each of the 5 attributes\n",
    "        - Use these five attributes to predict a **velocity** using our regression model\n",
    "        - **IF** the weight average $\\leq$ 155 **AND** this velocity $>$ max_v:\n",
    "            - max_v = this velocity\n",
    "            - max_rowers = this combination of rowers\n",
    "            \n",
    "- return max_rowers to find the 8 rowers that produce the fastest velocity"
   ]
  },
  {
   "cell_type": "code",
   "execution_count": null,
   "metadata": {
    "collapsed": true,
    "slideshow": {
     "slide_type": "skip"
    }
   },
   "outputs": [],
   "source": []
  }
 ],
 "metadata": {
  "celltoolbar": "Slideshow",
  "kernelspec": {
   "display_name": "Python 2",
   "language": "python",
   "name": "python2"
  },
  "language_info": {
   "codemirror_mode": {
    "name": "ipython",
    "version": 2
   },
   "file_extension": ".py",
   "mimetype": "text/x-python",
   "name": "python",
   "nbconvert_exporter": "python",
   "pygments_lexer": "ipython2",
   "version": "2.7.10"
  }
 },
 "nbformat": 4,
 "nbformat_minor": 0
}
